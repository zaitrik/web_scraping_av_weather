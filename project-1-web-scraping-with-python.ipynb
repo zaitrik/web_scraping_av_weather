{
 "cells": [
  {
   "cell_type": "markdown",
   "metadata": {},
   "source": [
    "# Web Scraping for Aviation Weather  \n",
    "![](https://www.ctsys.com/wp-content/uploads/2020/06/Aviation-Weather-3.jpg)"
   ]
  },
  {
   "cell_type": "code",
   "execution_count": 1,
   "metadata": {},
   "outputs": [],
   "source": [
    "!pip install jovian --upgrade --quiet"
   ]
  },
  {
   "cell_type": "code",
   "execution_count": 2,
   "metadata": {},
   "outputs": [],
   "source": [
    "import jovian"
   ]
  },
  {
   "cell_type": "code",
   "execution_count": 3,
   "metadata": {},
   "outputs": [
    {
     "data": {
      "application/javascript": [
       "window.require && require([\"base/js/namespace\"],function(Jupyter){Jupyter.notebook.save_checkpoint()})"
      ],
      "text/plain": [
       "<IPython.core.display.Javascript object>"
      ]
     },
     "metadata": {},
     "output_type": "display_data"
    },
    {
     "name": "stdout",
     "output_type": "stream",
     "text": [
      "[jovian] Attempting to save notebook..\u001b[0m\n",
      "[jovian] Updating notebook \"kara-mounir/project-1-web-scraping-with-python\" on https://jovian.ai\u001b[0m\n",
      "[jovian] Uploading notebook..\u001b[0m\n",
      "[jovian] Uploading additional files...\u001b[0m\n",
      "[jovian] Committed successfully! https://jovian.ai/kara-mounir/project-1-web-scraping-with-python\u001b[0m\n"
     ]
    },
    {
     "data": {
      "text/plain": [
       "'https://jovian.ai/kara-mounir/project-1-web-scraping-with-python'"
      ]
     },
     "execution_count": 3,
     "metadata": {},
     "output_type": "execute_result"
    }
   ],
   "source": [
    "jovian.commit(project=\"project-1-web-scraping-with-python\")"
   ]
  },
  {
   "cell_type": "markdown",
   "metadata": {},
   "source": [
    "## Introduction:  \n",
    "In this notebook, I design a web scaping tool that downloads real-time weather data for a certain list of airports, and stores it in a csv file.  \n",
    "As an air traffic controller, up-to-date and precise weather data is one of the most important informations I rely on during my duty. Those informations are also used by pilots, dispatch agents, flight service specialists and other aviation professionals.  \n",
    "### Aviation weather sequences :  \n",
    "The worldwide standard for aviation weather is called **METAR**. It is an ordered sequence of informations published by weather stations. Weather stations are usually based at airports. **METAR** are published every hour, in normal operations and sometimes more often, if weather conditions are changing rapidly. For more informations about **METAR** [read here](https://en.wikipedia.org/wiki/METAR).  \n",
    "Weather informations are available online, in a variety of forms. The [GetMetar](https://www.getmetar.com/) website offers an easy way to get **METAR** using airports codes.  \n",
    "Every airport in the world has a unique identification sequence, composed of 4 characters and assigned by [ICAO](https://www.icao.int/Pages/default.aspx). We will get a list of these identifications from a **GitHub** dataset.  \n",
    "Web scraping will be done using **Beautiful Soup** library. We will use **Request** library in order to get data from [GetMetar](https://www.getmetar.com/) website.  \n",
    "We will use **Pandas** library in order to get a database of airport codes, and to manipulate `csv` datasets."
   ]
  },
  {
   "cell_type": "code",
   "execution_count": 4,
   "metadata": {},
   "outputs": [],
   "source": [
    "# Installing and importing libraries \n",
    "!pip install beautifulsoup4 --upgrade --quiet\n",
    "!pip install opendatasets --upgrade --quiet\n",
    "import requests\n",
    "from bs4 import BeautifulSoup\n",
    "from tqdm.notebook import tqdm\n",
    "import pandas as pd"
   ]
  },
  {
   "cell_type": "markdown",
   "metadata": {},
   "source": [
    "## 1 - Downloading airport codes"
   ]
  },
  {
   "cell_type": "code",
   "execution_count": 5,
   "metadata": {},
   "outputs": [],
   "source": [
    "icao_list_url = 'https://raw.githubusercontent.com/datasets/airport-codes/master/data/airport-codes.csv'"
   ]
  },
  {
   "cell_type": "code",
   "execution_count": 6,
   "metadata": {},
   "outputs": [],
   "source": [
    "airports_df = pd.read_csv(icao_list_url)"
   ]
  },
  {
   "cell_type": "markdown",
   "metadata": {},
   "source": [
    "Let's explore this dataframe:\n"
   ]
  },
  {
   "cell_type": "code",
   "execution_count": 7,
   "metadata": {},
   "outputs": [
    {
     "data": {
      "text/plain": [
       "Index(['ident', 'type', 'name', 'elevation_ft', 'continent', 'iso_country',\n",
       "       'iso_region', 'municipality', 'gps_code', 'iata_code', 'local_code',\n",
       "       'coordinates'],\n",
       "      dtype='object')"
      ]
     },
     "execution_count": 7,
     "metadata": {},
     "output_type": "execute_result"
    }
   ],
   "source": [
    "airports_df.columns"
   ]
  },
  {
   "cell_type": "markdown",
   "metadata": {},
   "source": [
    "There are many types of airports. Using the column `type` we can list these classes:"
   ]
  },
  {
   "cell_type": "code",
   "execution_count": 8,
   "metadata": {},
   "outputs": [
    {
     "data": {
      "text/plain": [
       "array(['heliport', 'small_airport', 'closed', 'seaplane_base',\n",
       "       'balloonport', 'medium_airport', 'large_airport'], dtype=object)"
      ]
     },
     "execution_count": 8,
     "metadata": {},
     "output_type": "execute_result"
    }
   ],
   "source": [
    "airports_df['type'].unique()"
   ]
  },
  {
   "cell_type": "markdown",
   "metadata": {},
   "source": [
    "We will consider only the 'large_airport' category. We can also specify continents, countries etc."
   ]
  },
  {
   "cell_type": "code",
   "execution_count": 9,
   "metadata": {},
   "outputs": [
    {
     "data": {
      "text/plain": [
       "613"
      ]
     },
     "execution_count": 9,
     "metadata": {},
     "output_type": "execute_result"
    }
   ],
   "source": [
    "large_airports = airports_df[airports_df['type']=='large_airport']\n",
    "large_airports.ident.count()"
   ]
  },
  {
   "cell_type": "markdown",
   "metadata": {},
   "source": [
    "We have a list of 613 large airports. Now we will request weather data for one sample of those airports:"
   ]
  },
  {
   "cell_type": "code",
   "execution_count": 10,
   "metadata": {},
   "outputs": [
    {
     "data": {
      "text/plain": [
       "('BIKF', 'Keflavik International Airport')"
      ]
     },
     "execution_count": 10,
     "metadata": {},
     "output_type": "execute_result"
    }
   ],
   "source": [
    "sample_airport = large_airports.iloc[1]\n",
    "sample_airport['ident'],sample_airport['name']"
   ]
  },
  {
   "cell_type": "markdown",
   "metadata": {},
   "source": [
    "The first airport is our dataframe is Keflavik airport located in Island. "
   ]
  },
  {
   "cell_type": "markdown",
   "metadata": {},
   "source": [
    "## 2 - Using GetMetar website to download weather data  \n",
    "First, we will retrieve weather data for our sample airport."
   ]
  },
  {
   "cell_type": "code",
   "execution_count": 11,
   "metadata": {},
   "outputs": [],
   "source": [
    "base_url = 'https://www.getmetar.com/'\n",
    "sample_airport_wx = requests.get(base_url+sample_airport['ident'])"
   ]
  },
  {
   "cell_type": "code",
   "execution_count": 12,
   "metadata": {},
   "outputs": [],
   "source": [
    "sample_airport_data = BeautifulSoup(sample_airport_wx.text)"
   ]
  },
  {
   "cell_type": "markdown",
   "metadata": {},
   "source": [
    "By inspecting the result, we can determine where to get weather data."
   ]
  },
  {
   "cell_type": "code",
   "execution_count": 13,
   "metadata": {},
   "outputs": [
    {
     "data": {
      "text/plain": [
       "'BIKF 241530Z 13022KT 9999 SCT011 OVC100 08/06 Q1025'"
      ]
     },
     "execution_count": 13,
     "metadata": {},
     "output_type": "execute_result"
    }
   ],
   "source": [
    "# here is the METAR of this airport\n",
    "sample_airport_data.find('h4', class_='text-white font-weight-bold').text.strip()"
   ]
  },
  {
   "cell_type": "markdown",
   "metadata": {},
   "source": [
    "The information is coded using the international standard. The website offers however, a more user-friendly presentation, that is available in the resulting webpage:"
   ]
  },
  {
   "cell_type": "code",
   "execution_count": 14,
   "metadata": {},
   "outputs": [
    {
     "name": "stdout",
     "output_type": "stream",
     "text": [
      "24 Apr 2021 15:30\n",
      "Dry\n",
      "Scattered at 335 meters; overcast sky at 3048 meters\n",
      "Greater than 10 km\n",
      "130 degrees at 22 knots\n",
      "8\n",
      "6\n",
      "1025 millibars \n"
     ]
    }
   ],
   "source": [
    "weather_list = sample_airport_data.find('ul',class_='list-group mt-4')\n",
    "time_observation = weather_list.find_all('li')[0].text[27:44]\n",
    "present_condition = weather_list.find_all('li')[1].text[20:].replace(',',' ')\n",
    "clouds = weather_list.find_all('li')[2].text[8:].replace(',',' ')\n",
    "visibility = weather_list.find_all('li')[3].text[12:]\n",
    "winds = weather_list.find_all('li')[4].text[6:]\n",
    "temperature = weather_list.find_all('li')[5].text[13:-8]\n",
    "dew_point = weather_list.find_all('li')[6].text[11:-8]\n",
    "pressure = weather_list.find_all('li')[7].text[10:]\n",
    "print(time_observation)\n",
    "print(present_condition)\n",
    "print(clouds)\n",
    "print(visibility)\n",
    "print(winds)\n",
    "print(temperature)\n",
    "print(dew_point)\n",
    "print(pressure)"
   ]
  },
  {
   "cell_type": "markdown",
   "metadata": {},
   "source": [
    "Now let's define functions to execute this steps for every airport in our list. Before that, we create a list of tuples (ident, name) for every airport:"
   ]
  },
  {
   "cell_type": "code",
   "execution_count": 15,
   "metadata": {},
   "outputs": [
    {
     "data": {
      "text/plain": [
       "[('AYPY', 'Port Moresby Jacksons International Airport'),\n",
       " ('BIKF', 'Keflavik International Airport'),\n",
       " ('BKPR', 'Priština International Airport'),\n",
       " ('CYEG', 'Edmonton International Airport'),\n",
       " ('CYHZ', 'Halifax / Stanfield International Airport'),\n",
       " ('CYOW', 'Ottawa Macdonald-Cartier International Airport'),\n",
       " ('CYUL', 'Montreal / Pierre Elliott Trudeau International Airport'),\n",
       " ('CYVR', 'Vancouver International Airport'),\n",
       " ('CYWG', 'Winnipeg / James Armstrong Richardson International Airport'),\n",
       " ('CYYC', 'Calgary International Airport'),\n",
       " ('CYYJ', 'Victoria International Airport'),\n",
       " ('CYYT', \"St. John's International Airport\"),\n",
       " ('CYYZ', 'Lester B. Pearson International Airport'),\n",
       " ('DAAG', 'Houari Boumediene Airport'),\n",
       " ('DFFD', 'Ouagadougou Airport'),\n",
       " ('DGAA', 'Kotoka International Airport'),\n",
       " ('DNAA', 'Nnamdi Azikiwe International Airport'),\n",
       " ('DNAI', 'Akwa Ibom International Airport'),\n",
       " ('DNKN', 'Mallam Aminu International Airport'),\n",
       " ('DNMM', 'Murtala Muhammed International Airport'),\n",
       " ('DRRN', 'Diori Hamani International Airport'),\n",
       " ('DTTA', 'Tunis Carthage International Airport'),\n",
       " ('EBBR', 'Brussels Airport'),\n",
       " ('EBCI', 'Brussels South Charleroi Airport'),\n",
       " ('EBLG', 'Liège Airport'),\n",
       " ('EDDB', 'Berlin-Schönefeld Airport'),\n",
       " ('EDDC', 'Dresden Airport'),\n",
       " ('EDDF', 'Frankfurt am Main Airport'),\n",
       " ('EDDG', 'Münster Osnabrück Airport'),\n",
       " ('EDDH', 'Hamburg Airport'),\n",
       " ('EDDK', 'Cologne Bonn Airport'),\n",
       " ('EDDL', 'Düsseldorf Airport'),\n",
       " ('EDDM', 'Munich Airport'),\n",
       " ('EDDN', 'Nuremberg Airport'),\n",
       " ('EDDP', 'Leipzig/Halle Airport'),\n",
       " ('EDDS', 'Stuttgart Airport'),\n",
       " ('EDDT', 'Berlin-Tegel Airport'),\n",
       " ('EDDV', 'Hannover Airport'),\n",
       " ('EDDW', 'Bremen Airport'),\n",
       " ('EDLW', 'Dortmund Airport'),\n",
       " ('EDSB', 'Karlsruhe Baden-Baden Airport'),\n",
       " ('EETN', 'Lennart Meri Tallinn Airport'),\n",
       " ('EFHK', 'Helsinki Vantaa Airport'),\n",
       " ('EGAA', 'Belfast International Airport'),\n",
       " ('EGAC', 'George Best Belfast City Airport'),\n",
       " ('EGBB', 'Birmingham International Airport'),\n",
       " ('EGCC', 'Manchester Airport'),\n",
       " ('EGCN', 'Robin Hood Doncaster Sheffield Airport'),\n",
       " ('EGFF', 'Cardiff International Airport'),\n",
       " ('EGGD', 'Bristol Airport'),\n",
       " ('EGGP', 'Liverpool John Lennon Airport'),\n",
       " ('EGGW', 'London Luton Airport'),\n",
       " ('EGHH', 'Bournemouth Airport'),\n",
       " ('EGHI', 'Southampton Airport'),\n",
       " ('EGKK', 'London Gatwick Airport'),\n",
       " ('EGLL', 'London Heathrow Airport'),\n",
       " ('EGNM', 'Leeds Bradford Airport'),\n",
       " ('EGNT', 'Newcastle Airport'),\n",
       " ('EGNX', 'East Midlands Airport'),\n",
       " ('EGPD', 'Aberdeen Dyce Airport'),\n",
       " ('EGPF', 'Glasgow International Airport'),\n",
       " ('EGPH', 'Edinburgh Airport'),\n",
       " ('EGSH', 'Norwich International Airport'),\n",
       " ('EGSS', 'London Stansted Airport'),\n",
       " ('EGTE', 'Exeter International Airport'),\n",
       " ('EGUL', 'RAF Lakenheath'),\n",
       " ('EGUN', 'RAF Mildenhall'),\n",
       " ('EGVA', 'RAF Fairford'),\n",
       " ('EGVN', 'RAF Brize Norton'),\n",
       " ('EHAM', 'Amsterdam Airport Schiphol'),\n",
       " ('EHEH', 'Eindhoven Airport'),\n",
       " ('EICK', 'Cork Airport'),\n",
       " ('EIDW', 'Dublin Airport'),\n",
       " ('EINN', 'Shannon Airport'),\n",
       " ('EKBI', 'Billund Airport'),\n",
       " ('EKCH', 'Copenhagen Kastrup Airport'),\n",
       " ('EKYT', 'Aalborg Airport'),\n",
       " ('ELLX', 'Luxembourg-Findel International Airport'),\n",
       " ('ENBO', 'Bodø Airport'),\n",
       " ('ENBR', 'Bergen Airport Flesland'),\n",
       " ('ENGM', 'Oslo Gardermoen Airport'),\n",
       " ('ENTC', 'Tromsø Airport'),\n",
       " ('ENVA', 'Trondheim Airport Værnes'),\n",
       " ('ENZV', 'Stavanger Airport Sola'),\n",
       " ('EPGD', 'Gdańsk Lech Wałęsa Airport'),\n",
       " ('EPKK', 'Kraków John Paul II International Airport'),\n",
       " ('EPKT', 'Katowice International Airport'),\n",
       " ('EPMO', 'Modlin Airport'),\n",
       " ('EPPO', 'Poznań-Ławica Airport'),\n",
       " ('EPWA', 'Warsaw Chopin Airport'),\n",
       " ('EPWR', 'Copernicus Wrocław Airport'),\n",
       " ('ESGG', 'Gothenburg-Landvetter Airport'),\n",
       " ('ESMS', 'Malmö Sturup Airport'),\n",
       " ('ESPA', 'Luleå Airport'),\n",
       " ('ESSA', 'Stockholm-Arlanda Airport'),\n",
       " ('ETAR', 'Ramstein Air Base'),\n",
       " ('EVRA', 'Riga International Airport'),\n",
       " ('EYVI', 'Vilnius International Airport'),\n",
       " ('FACT', 'Cape Town International Airport'),\n",
       " ('FAGG', 'George Airport'),\n",
       " ('FAJS', 'OR Tambo International Airport'),\n",
       " ('FALE', 'King Shaka International Airport'),\n",
       " ('FAOR', 'OR Tambo International Airport'),\n",
       " ('FBSK', 'Sir Seretse Khama International Airport'),\n",
       " ('FIMP', 'Sir Seewoosagur Ramgoolam International Airport'),\n",
       " ('FLLS', 'Kenneth Kaunda International Airport Lusaka'),\n",
       " ('FMMI', 'Ivato Airport'),\n",
       " ('FNLU', 'Quatro de Fevereiro Airport'),\n",
       " ('FQMA', 'Maputo Airport'),\n",
       " ('FSIA', 'Seychelles International Airport'),\n",
       " ('FTTJ', \"N'Djamena International Airport\"),\n",
       " ('FVHA', 'Robert Gabriel Mugabe International Airport'),\n",
       " ('FYWH', 'Hosea Kutako International Airport'),\n",
       " ('FZAA', 'Ndjili International Airport'),\n",
       " ('GABS', 'Modibo Keita International Airport'),\n",
       " ('GCLA', 'La Palma Airport'),\n",
       " ('GCLP', 'Gran Canaria Airport'),\n",
       " ('GCTS', 'Tenerife South Airport'),\n",
       " ('GCXO', 'Tenerife Norte Airport'),\n",
       " ('GFLL', 'Lungi International Airport'),\n",
       " ('GLRB', 'Roberts International Airport'),\n",
       " ('GMMN', 'Mohammed V International Airport'),\n",
       " ('GOBD', 'Blaise Diagne International Airport'),\n",
       " ('GOOY', 'Léopold Sédar Senghor International Airport'),\n",
       " ('GQNO', 'Nouakchott–Oumtounsy International Airport'),\n",
       " ('GVAC', 'Amílcar Cabral International Airport'),\n",
       " ('HAAB', 'Addis Ababa Bole International Airport'),\n",
       " ('HECA', 'Cairo International Airport'),\n",
       " ('HEGN', 'Hurghada International Airport'),\n",
       " ('HELX', 'Luxor International Airport'),\n",
       " ('HKJK', 'Jomo Kenyatta International Airport'),\n",
       " ('HKMO', 'Mombasa Moi International Airport'),\n",
       " ('HLLT', 'Tripoli International Airport'),\n",
       " ('HRYR', 'Kigali International Airport'),\n",
       " ('HSSJ', 'Juba International Airport'),\n",
       " ('HSSS', 'Khartoum International Airport'),\n",
       " ('HTDA', 'Julius Nyerere International Airport'),\n",
       " ('HTZA', 'Abeid Amani Karume International Airport'),\n",
       " ('HUEN', 'Entebbe International Airport'),\n",
       " ('KABQ', 'Albuquerque International Sunport'),\n",
       " ('KADW', 'Joint Base Andrews'),\n",
       " ('KAFW', 'Fort Worth Alliance Airport'),\n",
       " ('KAGS', 'Augusta Regional At Bush Field'),\n",
       " ('KAMA', 'Rick Husband Amarillo International Airport'),\n",
       " ('KATL', 'Hartsfield Jackson Atlanta International Airport'),\n",
       " ('KAUS', 'Austin Bergstrom International Airport'),\n",
       " ('KAVL', 'Asheville Regional Airport'),\n",
       " ('KBAB', 'Beale Air Force Base'),\n",
       " ('KBAD', 'Barksdale Air Force Base'),\n",
       " ('KBDL', 'Bradley International Airport'),\n",
       " ('KBFI', 'Boeing Field King County International Airport'),\n",
       " ('KBGR', 'Bangor International Airport'),\n",
       " ('KBHM', 'Birmingham-Shuttlesworth International Airport'),\n",
       " ('KBIL', 'Billings Logan International Airport'),\n",
       " ('KBLV', 'Scott AFB/Midamerica Airport'),\n",
       " ('KBMI', 'Central Illinois Regional Airport at Bloomington-Normal'),\n",
       " ('KBNA', 'Nashville International Airport'),\n",
       " ('KBOI', 'Boise Air Terminal/Gowen Field'),\n",
       " ('KBOS', 'General Edward Lawrence Logan International Airport'),\n",
       " ('KBUF', 'Buffalo Niagara International Airport'),\n",
       " ('KBWI', 'Baltimore/Washington International Thurgood Marshall Airport'),\n",
       " ('KCAE', 'Columbia Metropolitan Airport'),\n",
       " ('KCBM', 'Columbus Air Force Base'),\n",
       " ('KCHA', 'Lovell Field'),\n",
       " ('KCHS', 'Charleston Air Force Base-International Airport'),\n",
       " ('KCID', 'The Eastern Iowa Airport'),\n",
       " ('KCLE', 'Cleveland Hopkins International Airport'),\n",
       " ('KCLT', 'Charlotte Douglas International Airport'),\n",
       " ('KCMH', 'John Glenn Columbus International Airport'),\n",
       " ('KCOS', 'City of Colorado Springs Municipal Airport'),\n",
       " ('KCRP', 'Corpus Christi International Airport'),\n",
       " ('KCRW', 'Yeager Airport'),\n",
       " ('KCVG', 'Cincinnati Northern Kentucky International Airport'),\n",
       " ('KCVS', 'Cannon Air Force Base'),\n",
       " ('KDAB', 'Daytona Beach International Airport'),\n",
       " ('KDAL', 'Dallas Love Field'),\n",
       " ('KDAY', 'James M Cox Dayton International Airport'),\n",
       " ('KDBQ', 'Dubuque Regional Airport'),\n",
       " ('KDCA', 'Ronald Reagan Washington National Airport'),\n",
       " ('KDEN', 'Denver International Airport'),\n",
       " ('KDFW', 'Dallas Fort Worth International Airport'),\n",
       " ('KDLF', 'DLF Airport'),\n",
       " ('KDLH', 'Duluth International Airport'),\n",
       " ('KDOV', 'Dover Air Force Base'),\n",
       " ('KDSM', 'Des Moines International Airport'),\n",
       " ('KDTW', 'Detroit Metropolitan Wayne County Airport'),\n",
       " ('KDYS', 'Dyess Air Force Base'),\n",
       " ('KEDW', 'Edwards Air Force Base'),\n",
       " ('KEND', 'Vance Air Force Base'),\n",
       " ('KERI', 'Erie International Tom Ridge Field'),\n",
       " ('KEWR', 'Newark Liberty International Airport'),\n",
       " ('KFFO', 'Wright-Patterson Air Force Base'),\n",
       " ('KFLL', 'Fort Lauderdale Hollywood International Airport'),\n",
       " ('KFSM', 'Fort Smith Regional Airport'),\n",
       " ('KFTW', 'Fort Worth Meacham International Airport'),\n",
       " ('KFWA', 'Fort Wayne International Airport'),\n",
       " ('KGEG', 'Spokane International Airport'),\n",
       " ('KGPT', 'Gulfport Biloxi International Airport'),\n",
       " ('KGRB', 'Austin Straubel International Airport'),\n",
       " ('KGSB', 'Seymour Johnson Air Force Base'),\n",
       " ('KGSO', 'Piedmont Triad International Airport'),\n",
       " ('KGSP', 'Greenville Spartanburg International Airport'),\n",
       " ('KGUS', 'Grissom Air Reserve Base'),\n",
       " ('KHIB', 'Range Regional Airport'),\n",
       " ('KHMN', 'Holloman Air Force Base'),\n",
       " ('KHOU', 'William P Hobby Airport'),\n",
       " ('KHSV', 'Huntsville International Carl T Jones Field'),\n",
       " ('KHTS', 'Tri-State/Milton J. Ferguson Field'),\n",
       " ('KIAD', 'Washington Dulles International Airport'),\n",
       " ('KIAH', 'George Bush Intercontinental Houston Airport'),\n",
       " ('KICT', 'Wichita Eisenhower National Airport'),\n",
       " ('KIND', 'Indianapolis International Airport'),\n",
       " ('KJAN', 'Jackson-Medgar Wiley Evers International Airport'),\n",
       " ('KJAX', 'Jacksonville International Airport'),\n",
       " ('KJFK', 'John F Kennedy International Airport'),\n",
       " ('KJLN', 'Joplin Regional Airport'),\n",
       " ('KLAS', 'McCarran International Airport'),\n",
       " ('KLAX', 'Los Angeles International Airport'),\n",
       " ('KLBB', 'Lubbock Preston Smith International Airport'),\n",
       " ('KLCK', 'Rickenbacker International Airport'),\n",
       " ('KLEX', 'Blue Grass Airport'),\n",
       " ('KLFI', 'Langley Air Force Base'),\n",
       " ('KLFT', 'Lafayette Regional Airport'),\n",
       " ('KLGA', 'La Guardia Airport'),\n",
       " ('KLIT', 'Bill & Hillary Clinton National Airport/Adams Field'),\n",
       " ('KLTS', 'Altus Air Force Base'),\n",
       " ('KLUF', 'Luke Air Force Base'),\n",
       " ('KMBS', 'MBS International Airport'),\n",
       " ('KMCF', 'Mac Dill Air Force Base'),\n",
       " ('KMCI', 'Kansas City International Airport'),\n",
       " ('KMCO', 'Orlando International Airport'),\n",
       " ('KMDW', 'Chicago Midway International Airport'),\n",
       " ('KMEM', 'Memphis International Airport'),\n",
       " ('KMGE', 'Dobbins Air Reserve Base'),\n",
       " ('KMGM', 'Montgomery Regional (Dannelly Field) Airport'),\n",
       " ('KMHT', 'Manchester-Boston Regional Airport'),\n",
       " ('KMIA', 'Miami International Airport'),\n",
       " ('KMKE', 'General Mitchell International Airport'),\n",
       " ('KMLI', 'Quad City International Airport'),\n",
       " ('KMLU', 'Monroe Regional Airport'),\n",
       " ('KMOB', 'Mobile Regional Airport'),\n",
       " ('KMSN', 'Dane County Regional Truax Field'),\n",
       " ('KMSP', 'Minneapolis-St Paul International/Wold-Chamberlain Airport'),\n",
       " ('KMSY', 'Louis Armstrong New Orleans International Airport'),\n",
       " ('KMUO', 'Mountain Home Air Force Base'),\n",
       " ('KOAK', 'Metropolitan Oakland International Airport'),\n",
       " ('KOKC', 'Will Rogers World Airport'),\n",
       " ('KOMA', 'Eppley Airfield'),\n",
       " ('KONT', 'Ontario International Airport'),\n",
       " ('KORD', \"Chicago O'Hare International Airport\"),\n",
       " ('KORF', 'Norfolk International Airport'),\n",
       " ('KPAM', 'Tyndall Air Force Base'),\n",
       " ('KPBI', 'Palm Beach International Airport'),\n",
       " ('KPDX', 'Portland International Airport'),\n",
       " ('KPHF', 'Newport News Williamsburg International Airport'),\n",
       " ('KPHL', 'Philadelphia International Airport'),\n",
       " ('KPHX', 'Phoenix Sky Harbor International Airport'),\n",
       " ('KPIA', 'General Wayne A. Downing Peoria International Airport'),\n",
       " ('KPIT', 'Pittsburgh International Airport'),\n",
       " ('KPVD', 'Theodore Francis Green State Airport'),\n",
       " ('KPWM', 'Portland International Jetport Airport'),\n",
       " ('KRDU', 'Raleigh Durham International Airport'),\n",
       " ('KRFD', 'Chicago Rockford International Airport'),\n",
       " ('KRIC', 'Richmond International Airport'),\n",
       " ('KRND', 'Randolph Air Force Base'),\n",
       " ('KRNO', 'Reno Tahoe International Airport'),\n",
       " ('KROA', 'Roanoke–Blacksburg Regional Airport'),\n",
       " ('KROC', 'Greater Rochester International Airport'),\n",
       " ('KRST', 'Rochester International Airport'),\n",
       " ('KRSW', 'Southwest Florida International Airport'),\n",
       " ('KSAN', 'San Diego International Airport'),\n",
       " ('KSAT', 'San Antonio International Airport'),\n",
       " ('KSAV', 'Savannah Hilton Head International Airport'),\n",
       " ('KSBN', 'South Bend Regional Airport'),\n",
       " ('KSDF', 'Louisville International Standiford Field'),\n",
       " ('KSEA', 'Seattle Tacoma International Airport'),\n",
       " ('KSFB', 'Orlando Sanford International Airport'),\n",
       " ('KSFO', 'San Francisco International Airport'),\n",
       " ('KSGF', 'Springfield Branson National Airport'),\n",
       " ('KSJC', 'Norman Y. Mineta San Jose International Airport'),\n",
       " ('KSKA', 'Fairchild Air Force Base'),\n",
       " ('KSLC', 'Salt Lake City International Airport'),\n",
       " ('KSMF', 'Sacramento International Airport'),\n",
       " ('KSNA', 'John Wayne Airport-Orange County Airport'),\n",
       " ('KSPI', 'Abraham Lincoln Capital Airport'),\n",
       " ('KSPS', 'Sheppard Air Force Base-Wichita Falls Municipal Airport'),\n",
       " ('KSRQ', 'Sarasota Bradenton International Airport'),\n",
       " ('KSSC', 'Shaw Air Force Base'),\n",
       " ('KSTL', 'St Louis Lambert International Airport'),\n",
       " ('KSUS', 'Spirit of St Louis Airport'),\n",
       " ('KSUU', 'Travis Air Force Base'),\n",
       " ('KSUX', 'Sioux Gateway Col. Bud Day Field'),\n",
       " ('KSYR', 'Syracuse Hancock International Airport'),\n",
       " ('KSZL', 'Whiteman Air Force Base'),\n",
       " ('KTCM', 'McChord Air Force Base'),\n",
       " ('KTIK', 'Tinker Air Force Base'),\n",
       " ('KTLH', 'Tallahassee Regional Airport'),\n",
       " ('KTOL', 'Toledo Express Airport'),\n",
       " ('KTPA', 'Tampa International Airport'),\n",
       " ('KTRI', 'Tri-Cities Regional TN/VA Airport'),\n",
       " ('KTUL', 'Tulsa International Airport'),\n",
       " ('KTUS', 'Tucson International Airport'),\n",
       " ('KTYS', 'McGhee Tyson Airport'),\n",
       " ('KVBG', 'Vandenberg Air Force Base'),\n",
       " ('KVPS', 'Destin-Ft Walton Beach Airport'),\n",
       " ('KWRB', 'Robins Air Force Base'),\n",
       " ('LATI', 'Tirana International Airport Mother Teresa'),\n",
       " ('LBBG', 'Burgas Airport'),\n",
       " ('LBSF', 'Sofia Airport'),\n",
       " ('LBWN', 'Varna Airport'),\n",
       " ('LCLK', 'Larnaca International Airport'),\n",
       " ('LCPH', 'Paphos International Airport'),\n",
       " ('LCRA', 'RAF Akrotiri'),\n",
       " ('LDZA', 'Zagreb Airport'),\n",
       " ('LEAL', 'Alicante International Airport'),\n",
       " ('LEBL', 'Barcelona International Airport'),\n",
       " ('LEMD', 'Adolfo Suárez Madrid–Barajas Airport'),\n",
       " ('LEMG', 'Málaga Airport'),\n",
       " ('LEPA', 'Palma De Mallorca Airport'),\n",
       " ('LEST', 'Santiago de Compostela Airport'),\n",
       " ('LFBD', 'Bordeaux-Mérignac Airport'),\n",
       " ('LFBO', 'Toulouse-Blagnac Airport'),\n",
       " ('LFLL', 'Lyon Saint-Exupéry Airport'),\n",
       " ('LFML', 'Marseille Provence Airport'),\n",
       " ('LFMN', \"Nice-Côte d'Azur Airport\"),\n",
       " ('LFOA', 'Avord (BA 702) Air Base'),\n",
       " ('LFPG', 'Charles de Gaulle International Airport'),\n",
       " ('LFPO', 'Paris-Orly Airport'),\n",
       " ('LFSB', 'EuroAirport Basel-Mulhouse-Freiburg Airport'),\n",
       " ('LGAV', 'Eleftherios Venizelos International Airport'),\n",
       " ('LGIR', 'Heraklion International Nikos Kazantzakis Airport'),\n",
       " ('LGTS', 'Thessaloniki Macedonia International Airport'),\n",
       " ('LHBP', 'Budapest Liszt Ferenc International Airport'),\n",
       " ('LIBD', 'Bari Karol Wojtyła Airport'),\n",
       " ('LICC', 'Catania-Fontanarossa Airport'),\n",
       " ('LICJ', 'Falcone–Borsellino Airport'),\n",
       " ('LIEE', 'Cagliari Elmas Airport'),\n",
       " ('LIMC', 'Malpensa International Airport'),\n",
       " ('LIME', 'Il Caravaggio International Airport'),\n",
       " ('LIMF', 'Turin Airport'),\n",
       " ('LIMJ', 'Genoa Cristoforo Colombo Airport'),\n",
       " ('LIML', 'Milano Linate Airport'),\n",
       " ('LIPE', 'Bologna Guglielmo Marconi Airport'),\n",
       " ('LIPH', \"Treviso-Sant'Angelo Airport\"),\n",
       " ('LIPX', 'Verona Villafranca Airport'),\n",
       " ('LIPZ', 'Venice Marco Polo Airport'),\n",
       " ('LIRA', 'Ciampino–G. B. Pastine International Airport'),\n",
       " ('LIRF', 'Leonardo da Vinci–Fiumicino Airport'),\n",
       " ('LIRN', 'Naples International Airport'),\n",
       " ('LIRP', 'Pisa International Airport'),\n",
       " ('LJLJ', 'Ljubljana Jože Pučnik Airport'),\n",
       " ('LKPR', 'Václav Havel Airport Prague'),\n",
       " ('LLBG', 'Ben Gurion International Airport'),\n",
       " ('LLOV', 'Ovda International Airport'),\n",
       " ('LMML', 'Malta International Airport'),\n",
       " ('LOWW', 'Vienna International Airport'),\n",
       " ('LPFR', 'Faro Airport'),\n",
       " ('LPLA', 'Lajes Airport'),\n",
       " ('LPPD', 'João Paulo II Airport'),\n",
       " ('LPPR', 'Francisco de Sá Carneiro Airport'),\n",
       " ('LPPT', 'Humberto Delgado Airport (Lisbon Portela Airport)'),\n",
       " ('LQSA', 'Sarajevo International Airport'),\n",
       " ('LROP', 'Henri Coandă International Airport'),\n",
       " ('LSGG', 'Geneva Cointrin International Airport'),\n",
       " ('LSZH', 'Zürich Airport'),\n",
       " ('LTAC', 'Esenboğa International Airport'),\n",
       " ('LTAF', 'Adana Airport'),\n",
       " ('LTAI', 'Antalya International Airport'),\n",
       " ('LTAJ', 'Gaziantep International Airport'),\n",
       " ('LTBA', 'Atatürk International Airport'),\n",
       " ('LTBJ', 'Adnan Menderes International Airport'),\n",
       " ('LTBS', 'Dalaman International Airport'),\n",
       " ('LTCE', 'Erzurum International Airport'),\n",
       " ('LTCG', 'Trabzon International Airport'),\n",
       " ('LTFC', 'Süleyman Demirel International Airport'),\n",
       " ('LTFE', 'Milas Bodrum International Airport'),\n",
       " ('LTFJ', 'Sabiha Gökçen International Airport'),\n",
       " ('LWSK', 'Skopje Alexander the Great Airport'),\n",
       " ('LYBE', 'Belgrade Nikola Tesla Airport'),\n",
       " ('LYPG', 'Podgorica Airport'),\n",
       " ('LZIB', 'M. R. Štefánik Airport'),\n",
       " ('MDPC', 'Punta Cana International Airport'),\n",
       " ('MDSD', 'Las Américas International Airport'),\n",
       " ('MGGT', 'La Aurora Airport'),\n",
       " ('MKJP', 'Norman Manley International Airport'),\n",
       " ('MMAA', 'General Juan N Alvarez International Airport'),\n",
       " ('MMGL', 'Don Miguel Hidalgo Y Costilla International Airport'),\n",
       " ('MMHO', 'General Ignacio P. Garcia International Airport'),\n",
       " ('MMMX', 'Licenciado Benito Juarez International Airport'),\n",
       " ('MMMY', 'General Mariano Escobedo International Airport'),\n",
       " ('MMPR', 'Licenciado Gustavo Díaz Ordaz International Airport'),\n",
       " ('MMSD', 'Los Cabos International Airport'),\n",
       " ('MMTJ', 'General Abelardo L. Rodríguez International Airport'),\n",
       " ('MMUN', 'Cancún International Airport'),\n",
       " ('MPTO', 'Tocumen International Airport'),\n",
       " ('MRLB', 'Daniel Oduber Quiros International Airport'),\n",
       " ('MSLP', 'Monseñor Óscar Arnulfo Romero International Airport'),\n",
       " ('MUHA', 'José Martí International Airport'),\n",
       " ('MUVR', 'Juan Gualberto Gomez International Airport'),\n",
       " ('MWCR', 'Owen Roberts International Airport'),\n",
       " ('MYNN', 'Lynden Pindling International Airport'),\n",
       " ('MZBZ', 'Philip S. W. Goldson International Airport'),\n",
       " ('NCRG', 'Rarotonga International Airport'),\n",
       " ('NTAA', \"Faa'a International Airport\"),\n",
       " ('NZAA', 'Auckland International Airport'),\n",
       " ('NZCH', 'Christchurch International Airport'),\n",
       " ('NZWN', 'Wellington International Airport'),\n",
       " ('OBBI', 'Bahrain International Airport'),\n",
       " ('OEDF', 'King Fahd International Airport'),\n",
       " ('OEDR', 'King Abdulaziz Air Base'),\n",
       " ('OEJN', 'King Abdulaziz International Airport'),\n",
       " ('OEMA', 'Prince Mohammad Bin Abdulaziz Airport'),\n",
       " ('OERK', 'King Khaled International Airport'),\n",
       " ('OIIE', 'Imam Khomeini International Airport'),\n",
       " ('OIII', 'Mehrabad International Airport'),\n",
       " ('OIMM', 'Mashhad International Airport'),\n",
       " ('OISS', 'Shiraz Shahid Dastghaib International Airport'),\n",
       " ('OITT', 'Tabriz International Airport'),\n",
       " ('OJAI', 'Queen Alia International Airport'),\n",
       " ('OKBK', 'Kuwait International Airport'),\n",
       " ('OLBA', 'Beirut Rafic Hariri International Airport'),\n",
       " ('OMAA', 'Abu Dhabi International Airport'),\n",
       " ('OMDB', 'Dubai International Airport'),\n",
       " ('OMDW', 'Al Maktoum International Airport'),\n",
       " ('OMSJ', 'Sharjah International Airport'),\n",
       " ('OOMS', 'Muscat International Airport'),\n",
       " ('OPST', 'Sialkot Airport'),\n",
       " ('ORBI', 'Baghdad International Airport'),\n",
       " ('ORMM', 'Basrah International Airport'),\n",
       " ('OSAP', 'Aleppo International Airport'),\n",
       " ('OSDI', 'Damascus International Airport'),\n",
       " ('OSLK', 'Bassel Al-Assad International Airport'),\n",
       " ('PAFA', 'Fairbanks International Airport'),\n",
       " ('PANC', 'Ted Stevens Anchorage International Airport'),\n",
       " ('PGUM', 'Antonio B. Won Pat International Airport'),\n",
       " ('PHNL', 'Daniel K Inouye International Airport'),\n",
       " ('RCBS', 'Kinmen Airport'),\n",
       " ('RCKH', 'Kaohsiung International Airport'),\n",
       " ('RCTP', 'Taiwan Taoyuan International Airport'),\n",
       " ('RJAA', 'Narita International Airport'),\n",
       " ('RJBB', 'Kansai International Airport'),\n",
       " ('RJCC', 'New Chitose Airport'),\n",
       " ('RJFF', 'Fukuoka Airport'),\n",
       " ('RJFK', 'Kagoshima Airport'),\n",
       " ('RJGG', 'Chubu Centrair International Airport'),\n",
       " ('rjns', 'Mt. Fuji Shizuoka Airport'),\n",
       " ('RJOO', 'Osaka International Airport'),\n",
       " ('RJTT', 'Tokyo Haneda International Airport'),\n",
       " ('RJTY', 'Yokota Air Base'),\n",
       " ('RKJB', 'Muan International Airport'),\n",
       " ('RKJK', 'Kunsan Air Base'),\n",
       " ('RKPC', 'Jeju International Airport'),\n",
       " ('RKPK', 'Gimhae International Airport'),\n",
       " ('RKSI', 'Incheon International Airport'),\n",
       " ('RKSO', 'Osan Air Base'),\n",
       " ('RKSS', 'Gimpo International Airport'),\n",
       " ('RKTU', 'Cheongju International Airport/Cheongju Air Base (K-59/G-513)'),\n",
       " ('ROAH', 'Naha Airport'),\n",
       " ('RODN', 'Kadena Air Base'),\n",
       " ('RPLC', 'Diosdado Macapagal International Airport'),\n",
       " ('RPLL', 'Ninoy Aquino International Airport'),\n",
       " ('RPMD', 'Francisco Bangoy International Airport'),\n",
       " ('RPVM', 'Mactan Cebu International Airport'),\n",
       " ('SAEZ', 'Ministro Pistarini International Airport'),\n",
       " ('SBBE', 'Val de Cans/Júlio Cezar Ribeiro International Airport'),\n",
       " ('SBBR', 'Presidente Juscelino Kubistschek International Airport'),\n",
       " ('SBCF', 'Tancredo Neves International Airport'),\n",
       " ('SBCT', 'Afonso Pena Airport'),\n",
       " ('SBFL', 'Hercílio Luz International Airport'),\n",
       " ('SBGL', 'Rio Galeão – Tom Jobim International Airport'),\n",
       " ('SBGR', 'Guarulhos - Governador André Franco Montoro International Airport'),\n",
       " ('SBSG', 'Governador Aluízio Alves International Airport'),\n",
       " ('SBSP', 'Congonhas Airport'),\n",
       " ('SBSV', 'Deputado Luiz Eduardo Magalhães International Airport'),\n",
       " ('SCEL', 'Comodoro Arturo Merino Benítez International Airport'),\n",
       " ('SELT', 'Cotopaxi International Airport'),\n",
       " ('SEQM', 'Mariscal Sucre International Airport'),\n",
       " ('SKBO', 'El Dorado International Airport'),\n",
       " ('SLVR', 'Viru Viru International Airport'),\n",
       " ('SPIM', 'Jorge Chávez International Airport'),\n",
       " ('SPZO', 'Alejandro Velasco Astete International Airport'),\n",
       " ('SUMU', 'Carrasco International /General C L Berisso Airport'),\n",
       " ('SVBC', 'General José Antonio Anzoategui International Airport'),\n",
       " ('SVMI', 'Simón Bolívar International Airport'),\n",
       " ('TFFR', 'Pointe-à-Pitre Le Raizet'),\n",
       " ('TJSJ', 'Luis Munoz Marin International Airport'),\n",
       " ('TNCM', 'Princess Juliana International Airport'),\n",
       " ('UAAA', 'Almaty Airport'),\n",
       " ('UACC', 'Astana International Airport'),\n",
       " ('UAFM', 'Manas International Airport'),\n",
       " ('UAKK', 'Sary-Arka Airport'),\n",
       " ('UBBB', 'Heydar Aliyev International Airport'),\n",
       " ('UDYZ', 'Zvartnots International Airport'),\n",
       " ('UGTB', 'Tbilisi International Airport'),\n",
       " ('UHHH', 'Khabarovsk-Novy Airport'),\n",
       " ('UKBB', 'Boryspil International Airport'),\n",
       " ('UKFF', 'Simferopol International Airport'),\n",
       " ('UKHH', 'Kharkiv International Airport'),\n",
       " ('UKOO', 'Odessa International Airport'),\n",
       " ('ULLI', 'Pulkovo Airport'),\n",
       " ('UMMS', 'Minsk National Airport'),\n",
       " ('UNKL', 'Yemelyanovo Airport'),\n",
       " ('UNNT', 'Tolmachevo Airport'),\n",
       " ('URRP', 'Platov International Airport'),\n",
       " ('URSS', 'Sochi International Airport'),\n",
       " ('USSS', 'Koltsovo Airport'),\n",
       " ('UTAA', 'Ashgabat International Airport'),\n",
       " ('UTTT', 'Tashkent International Airport'),\n",
       " ('UUBW', 'Zhukovsky International Airport'),\n",
       " ('UUDD', 'Domodedovo International Airport'),\n",
       " ('UUEE', 'Sheremetyevo International Airport'),\n",
       " ('UUWW', 'Vnukovo International Airport'),\n",
       " ('UWKD', 'Kazan International Airport'),\n",
       " ('UWKG', 'Borisoglebskoye Airport'),\n",
       " ('UWUU', 'Ufa International Airport'),\n",
       " ('UWWW', 'Kurumoch International Airport'),\n",
       " ('VABB', 'Chhatrapati Shivaji International Airport'),\n",
       " ('VAGO', 'Dabolim Airport'),\n",
       " ('VCBI', 'Bandaranaike International Colombo Airport'),\n",
       " ('VCRI', 'Mattala Rajapaksa International Airport'),\n",
       " ('VDPP', 'Phnom Penh International Airport'),\n",
       " ('VDSR', 'Siem Reap International Airport'),\n",
       " ('VECC', 'Netaji Subhash Chandra Bose International Airport'),\n",
       " ('VGZR', 'Hazrat Shahjalal International Airport'),\n",
       " ('VHHH', 'Hong Kong International Airport'),\n",
       " ('VIAR', 'Sri Guru Ram Dass Jee International Airport'),\n",
       " ('VIDP', 'Indira Gandhi International Airport'),\n",
       " ('VMMC', 'Macau International Airport'),\n",
       " ('VNKT', 'Tribhuvan International Airport'),\n",
       " ('VOBL', 'Kempegowda International Airport'),\n",
       " ('VOCI', 'Cochin International Airport'),\n",
       " ('VOCL', 'Calicut International Airport'),\n",
       " ('VOHS', 'Rajiv Gandhi International Airport'),\n",
       " ('VOMM', 'Chennai International Airport'),\n",
       " ('VOTV', 'Trivandrum International Airport'),\n",
       " ('VRMM', 'Malé International Airport'),\n",
       " ('VTBD', 'Don Mueang International Airport'),\n",
       " ('VTBS', 'Suvarnabhumi Airport'),\n",
       " ('VTCC', 'Chiang Mai International Airport'),\n",
       " ('VTSP', 'Phuket International Airport'),\n",
       " ('VVDN', 'Da Nang International Airport'),\n",
       " ('VVNB', 'Noi Bai International Airport'),\n",
       " ('VVTS', 'Tan Son Nhat International Airport'),\n",
       " ('VYMD', 'Mandalay International Airport'),\n",
       " ('VYYY', 'Yangon International Airport'),\n",
       " ('WAAA', 'Hasanuddin International Airport'),\n",
       " ('WADD', 'Ngurah Rai (Bali) International Airport'),\n",
       " ('WAJJ', 'Sentani International Airport'),\n",
       " ('WARR', 'Juanda International Airport'),\n",
       " ('WAXX', 'Dominique Edward Osok Airport'),\n",
       " ('WBSB', 'Brunei International Airport'),\n",
       " ('WIII', 'Soekarno-Hatta International Airport'),\n",
       " ('WIMM', 'Kualanamu International Airport'),\n",
       " ('WMKK', 'Kuala Lumpur International Airport'),\n",
       " ('WSSS', 'Singapore Changi Airport'),\n",
       " ('YBBN', 'Brisbane International Airport'),\n",
       " ('YMML', 'Melbourne International Airport'),\n",
       " ('YPAD', 'Adelaide International Airport'),\n",
       " ('YPPH', 'Perth International Airport'),\n",
       " ('YSCB', 'Canberra International Airport'),\n",
       " ('YSSY', 'Sydney Kingsford Smith International Airport'),\n",
       " ('ZBAA', 'Beijing Capital International Airport'),\n",
       " ('ZBAD', 'Beijing Daxing International Airport'),\n",
       " ('ZBHH', 'Baita International Airport'),\n",
       " ('ZBNY', 'Beijing Nanyuan Airport'),\n",
       " ('ZBTJ', 'Tianjin Binhai International Airport'),\n",
       " ('ZBYN', 'Taiyuan Wusu Airport'),\n",
       " ('ZGGG', 'Guangzhou Baiyun International Airport'),\n",
       " ('ZGHA', 'Changsha Huanghua International Airport'),\n",
       " ('ZGKL', 'Guilin Liangjiang International Airport'),\n",
       " ('ZGNN', 'Nanning Wuxu Airport'),\n",
       " ('ZGSZ', \"Shenzhen Bao'an International Airport\"),\n",
       " ('ZHCC', 'Zhengzhou Xinzheng International Airport'),\n",
       " ('ZHHH', 'Wuhan Tianhe International Airport'),\n",
       " ('ZJHK', 'Haikou Meilan International Airport'),\n",
       " ('ZJSY', 'Sanya Phoenix International Airport'),\n",
       " ('ZLXY', \"Xi'an Xianyang International Airport\"),\n",
       " ('ZMUB', 'Chinggis Khaan International Airport'),\n",
       " ('ZPPP', 'Kunming Changshui International Airport'),\n",
       " ('ZSAM', 'Xiamen Gaoqi International Airport'),\n",
       " ('ZSFZ', 'Fuzhou Changle International Airport'),\n",
       " ('ZSHC', 'Hangzhou Xiaoshan International Airport'),\n",
       " ('ZSJN', 'Yaoqiang Airport'),\n",
       " ('ZSNB', 'Ningbo Lishe International Airport'),\n",
       " ('ZSNJ', 'Nanjing Lukou Airport'),\n",
       " ('ZSPD', 'Shanghai Pudong International Airport'),\n",
       " ('ZSSS', 'Shanghai Hongqiao International Airport'),\n",
       " ('ZSWZ', 'Wenzhou Longwan International Airport'),\n",
       " ('ZUCK', 'Chongqing Jiangbei International Airport'),\n",
       " ('ZUGY', 'Longdongbao Airport'),\n",
       " ('ZUUU', 'Chengdu Shuangliu International Airport'),\n",
       " ('ZWWW', 'Ürümqi Diwopu International Airport'),\n",
       " ('ZYHB', 'Taiping Airport'),\n",
       " ('ZYTL', 'Zhoushuizi Airport'),\n",
       " ('ZYTX', 'Taoxian Airport')]"
      ]
     },
     "execution_count": 15,
     "metadata": {},
     "output_type": "execute_result"
    }
   ],
   "source": [
    "airport_list = [(i,j) for (i,j) in zip(large_airports['ident'],large_airports['name']) if len(i)==4] #4 is the standard ICAO airport id\n",
    "airport_list  # list of airport codes and names "
   ]
  },
  {
   "cell_type": "markdown",
   "metadata": {},
   "source": [
    "This function will return a `BeautifulSoup` object with the **GetMetar** webpage data. "
   ]
  },
  {
   "cell_type": "code",
   "execution_count": 16,
   "metadata": {},
   "outputs": [],
   "source": [
    "def get_wx(airport_code):\n",
    "    \"\"\"\n",
    "    Returns a BeautifulSoup object of the GetMetar page associated to the airport code (Ident)\n",
    "    \"\"\"\n",
    "    base_url = 'https://www.getmetar.com/'\n",
    "    airport_wx = requests.get(base_url+airport_code)\n",
    "    if airport_wx.ok:\n",
    "        return BeautifulSoup(airport_wx.text)\n",
    "    else:\n",
    "        return None"
   ]
  },
  {
   "cell_type": "markdown",
   "metadata": {},
   "source": [
    "The following function will extract the weather data from the `BeautifulSoup` object."
   ]
  },
  {
   "cell_type": "code",
   "execution_count": 17,
   "metadata": {},
   "outputs": [],
   "source": [
    "def get_wx_informations(data):\n",
    "    \"\"\"\n",
    "    Extract time, condition, clouds, visibility, winds, temperature, dew point, presure from a BeautifulSoup object\n",
    "    Returns a dict of all the extracted data.\n",
    "    \"\"\"\n",
    "    if data==None:\n",
    "        return None\n",
    "    else:\n",
    "        weather_list = data.find('ul',class_='list-group mt-4')\n",
    "        time_observation = weather_list.find_all('li')[0].text[27:44]\n",
    "        present_condition = weather_list.find_all('li')[1].text[20:].replace(',',' ')\n",
    "        clouds = weather_list.find_all('li')[2].text[8:].replace(',',' ')\n",
    "        visibility = weather_list.find_all('li')[3].text[12:]\n",
    "        winds = weather_list.find_all('li')[4].text[6:]\n",
    "        temperature = weather_list.find_all('li')[5].text[13:-8]\n",
    "        dew_point = weather_list.find_all('li')[6].text[11:-8]\n",
    "        pressure = weather_list.find_all('li')[7].text[10:14]\n",
    "        return {'time':time_observation,\n",
    "               'condition':present_condition,\n",
    "               'clouds':clouds,\n",
    "               'visibility':visibility,\n",
    "               'winds':winds,\n",
    "               'temperature':temperature,\n",
    "               'dew_point':dew_point,\n",
    "               'pressure':pressure}"
   ]
  },
  {
   "cell_type": "markdown",
   "metadata": {},
   "source": [
    "Let's test the functions for one airport. "
   ]
  },
  {
   "cell_type": "code",
   "execution_count": 18,
   "metadata": {},
   "outputs": [
    {
     "data": {
      "text/plain": [
       "{'time': '24 Apr 2021 15:00',\n",
       " 'condition': 'Dry',\n",
       " 'clouds': 'Scattered at 1524 meters; broken sky at 3962 meters',\n",
       " 'visibility': 'Greater than 10 km',\n",
       " 'winds': '320 degrees at 7 knots',\n",
       " 'temperature': '24',\n",
       " 'dew_point': '23',\n",
       " 'pressure': '1010'}"
      ]
     },
     "execution_count": 18,
     "metadata": {},
     "output_type": "execute_result"
    }
   ],
   "source": [
    "# test functions on one sample\n",
    "data = get_wx(airport_list[0][0])\n",
    "weather_dic = get_wx_informations(data)\n",
    "weather_dic"
   ]
  },
  {
   "cell_type": "markdown",
   "metadata": {},
   "source": [
    "## 3 - Save results to `csv` file"
   ]
  },
  {
   "cell_type": "markdown",
   "metadata": {},
   "source": [
    "We have to specify headers for our csv file :"
   ]
  },
  {
   "cell_type": "code",
   "execution_count": 19,
   "metadata": {},
   "outputs": [
    {
     "data": {
      "text/plain": [
       "['ident',\n",
       " 'name',\n",
       " 'time',\n",
       " 'condition',\n",
       " 'clouds',\n",
       " 'visibility',\n",
       " 'winds',\n",
       " 'temperature',\n",
       " 'dew_point',\n",
       " 'pressure']"
      ]
     },
     "execution_count": 19,
     "metadata": {},
     "output_type": "execute_result"
    }
   ],
   "source": [
    "headers = ['ident','name']+list(weather_dic.keys())\n",
    "headers"
   ]
  },
  {
   "cell_type": "code",
   "execution_count": 20,
   "metadata": {},
   "outputs": [
    {
     "data": {
      "application/javascript": [
       "window.require && require([\"base/js/namespace\"],function(Jupyter){Jupyter.notebook.save_checkpoint()})"
      ],
      "text/plain": [
       "<IPython.core.display.Javascript object>"
      ]
     },
     "metadata": {},
     "output_type": "display_data"
    },
    {
     "name": "stdout",
     "output_type": "stream",
     "text": [
      "[jovian] Attempting to save notebook..\u001b[0m\n",
      "[jovian] Updating notebook \"kara-mounir/project-1-web-scraping-with-python\" on https://jovian.ai\u001b[0m\n",
      "[jovian] Uploading notebook..\u001b[0m\n",
      "[jovian] Uploading additional files...\u001b[0m\n",
      "[jovian] Committed successfully! https://jovian.ai/kara-mounir/project-1-web-scraping-with-python\u001b[0m\n"
     ]
    },
    {
     "data": {
      "text/plain": [
       "'https://jovian.ai/kara-mounir/project-1-web-scraping-with-python'"
      ]
     },
     "execution_count": 20,
     "metadata": {},
     "output_type": "execute_result"
    }
   ],
   "source": [
    "jovian.commit()"
   ]
  },
  {
   "cell_type": "markdown",
   "metadata": {},
   "source": [
    "Downloading and saving data for more around 600 airports can take sometime. We will use `tqdm` library in order to display progress during the whole process."
   ]
  },
  {
   "cell_type": "code",
   "execution_count": 21,
   "metadata": {},
   "outputs": [
    {
     "data": {
      "application/vnd.jupyter.widget-view+json": {
       "model_id": "48bb85ef45964952b492b9bb99bd7968",
       "version_major": 2,
       "version_minor": 0
      },
      "text/plain": [
       "HBox(children=(HTML(value=''), FloatProgress(value=0.0, max=595.0), HTML(value='')))"
      ]
     },
     "metadata": {},
     "output_type": "display_data"
    },
    {
     "name": "stdout",
     "output_type": "stream",
     "text": [
      "\n"
     ]
    }
   ],
   "source": [
    "results = [] # this list will contain the weather data for all airports\n",
    "for airport in tqdm(airport_list):\n",
    "    airport_ident = airport[0]\n",
    "    airport_name = airport[1]\n",
    "    data = get_wx(airport_ident)\n",
    "    if data!=None:\n",
    "        weather = list(get_wx_informations(data).values())   \n",
    "        results.append([airport_ident,airport_name]+ weather)"
   ]
  },
  {
   "cell_type": "markdown",
   "metadata": {},
   "source": [
    "And finally, we save the results to `csv` file."
   ]
  },
  {
   "cell_type": "code",
   "execution_count": 22,
   "metadata": {},
   "outputs": [],
   "source": [
    "path='airport_weather.csv'\n",
    "with open(path, 'w') as f:\n",
    "        # Write the headers in the first line\n",
    "        f.write(','.join(headers) + '\\n')\n",
    "        # Write one item per line\n",
    "        for item in results:\n",
    "            f.write(','.join(item) + \"\\n\")"
   ]
  },
  {
   "cell_type": "markdown",
   "metadata": {},
   "source": [
    "We open our newly-created `csv` file using pandas, and display some rows in order to verify that our functions work properly."
   ]
  },
  {
   "cell_type": "code",
   "execution_count": 23,
   "metadata": {},
   "outputs": [
    {
     "data": {
      "text/html": [
       "<div>\n",
       "<style scoped>\n",
       "    .dataframe tbody tr th:only-of-type {\n",
       "        vertical-align: middle;\n",
       "    }\n",
       "\n",
       "    .dataframe tbody tr th {\n",
       "        vertical-align: top;\n",
       "    }\n",
       "\n",
       "    .dataframe thead th {\n",
       "        text-align: right;\n",
       "    }\n",
       "</style>\n",
       "<table border=\"1\" class=\"dataframe\">\n",
       "  <thead>\n",
       "    <tr style=\"text-align: right;\">\n",
       "      <th></th>\n",
       "      <th>ident</th>\n",
       "      <th>name</th>\n",
       "      <th>time</th>\n",
       "      <th>condition</th>\n",
       "      <th>clouds</th>\n",
       "      <th>visibility</th>\n",
       "      <th>winds</th>\n",
       "      <th>temperature</th>\n",
       "      <th>dew_point</th>\n",
       "      <th>pressure</th>\n",
       "    </tr>\n",
       "  </thead>\n",
       "  <tbody>\n",
       "    <tr>\n",
       "      <th>0</th>\n",
       "      <td>AYPY</td>\n",
       "      <td>Port Moresby Jacksons International Airport</td>\n",
       "      <td>24 Apr 2021 15:00</td>\n",
       "      <td>Dry</td>\n",
       "      <td>Scattered at 1524 meters; broken sky at 3962 m...</td>\n",
       "      <td>Greater than 10 km</td>\n",
       "      <td>320 degrees at 7 knots</td>\n",
       "      <td>24.0</td>\n",
       "      <td>23.0</td>\n",
       "      <td>1010</td>\n",
       "    </tr>\n",
       "    <tr>\n",
       "      <th>1</th>\n",
       "      <td>BIKF</td>\n",
       "      <td>Keflavik International Airport</td>\n",
       "      <td>24 Apr 2021 15:30</td>\n",
       "      <td>Dry</td>\n",
       "      <td>Scattered at 335 meters; overcast sky at 3048 ...</td>\n",
       "      <td>Greater than 10 km</td>\n",
       "      <td>130 degrees at 22 knots</td>\n",
       "      <td>8.0</td>\n",
       "      <td>6.0</td>\n",
       "      <td>1025</td>\n",
       "    </tr>\n",
       "    <tr>\n",
       "      <th>2</th>\n",
       "      <td>BKPR</td>\n",
       "      <td>Priština International Airport</td>\n",
       "      <td>24 Apr 2021 15:30</td>\n",
       "      <td>Dry</td>\n",
       "      <td>A few at 2438 meters; broken sky at 5486 meters</td>\n",
       "      <td>Greater than 10 km</td>\n",
       "      <td>Variable at 3 knots</td>\n",
       "      <td>15.0</td>\n",
       "      <td>-2.0</td>\n",
       "      <td>1019</td>\n",
       "    </tr>\n",
       "    <tr>\n",
       "      <th>3</th>\n",
       "      <td>CYEG</td>\n",
       "      <td>Edmonton International Airport</td>\n",
       "      <td>24 Apr 2021 15:00</td>\n",
       "      <td>Dry</td>\n",
       "      <td>A few at 3048 meters; a few at 7620 meters</td>\n",
       "      <td>32187 meters</td>\n",
       "      <td>200 degrees at 8 knots</td>\n",
       "      <td>2.0</td>\n",
       "      <td>-10.0</td>\n",
       "      <td>29.9</td>\n",
       "    </tr>\n",
       "    <tr>\n",
       "      <th>4</th>\n",
       "      <td>CYHZ</td>\n",
       "      <td>Halifax / Stanfield International Airport</td>\n",
       "      <td>24 Apr 2021 15:00</td>\n",
       "      <td>Dry</td>\n",
       "      <td>A few at 1981 meters; a few at 2743 meters</td>\n",
       "      <td>24140 meters</td>\n",
       "      <td>290 degrees at 19 knots</td>\n",
       "      <td>15.0</td>\n",
       "      <td>-1.0</td>\n",
       "      <td>29.6</td>\n",
       "    </tr>\n",
       "    <tr>\n",
       "      <th>...</th>\n",
       "      <td>...</td>\n",
       "      <td>...</td>\n",
       "      <td>...</td>\n",
       "      <td>...</td>\n",
       "      <td>...</td>\n",
       "      <td>...</td>\n",
       "      <td>...</td>\n",
       "      <td>...</td>\n",
       "      <td>...</td>\n",
       "      <td>...</td>\n",
       "    </tr>\n",
       "    <tr>\n",
       "      <th>571</th>\n",
       "      <td>ZUUU</td>\n",
       "      <td>Chengdu Shuangliu International Airport</td>\n",
       "      <td>24 Apr 2021 16:00</td>\n",
       "      <td>Light showers of rain</td>\n",
       "      <td>A few at 305 meters; a few at 1219 meters  tow...</td>\n",
       "      <td>Greater than 10 km</td>\n",
       "      <td>70 degrees at 3 knots</td>\n",
       "      <td>21.0</td>\n",
       "      <td>15.0</td>\n",
       "      <td>1016</td>\n",
       "    </tr>\n",
       "    <tr>\n",
       "      <th>572</th>\n",
       "      <td>ZWWW</td>\n",
       "      <td>Ürümqi Diwopu International Airport</td>\n",
       "      <td>24 Apr 2021 16:00</td>\n",
       "      <td>Dry</td>\n",
       "      <td>Clear skies</td>\n",
       "      <td>Greater than 10 km</td>\n",
       "      <td>160 degrees at 2 knots</td>\n",
       "      <td>4.0</td>\n",
       "      <td>-4.0</td>\n",
       "      <td>1033</td>\n",
       "    </tr>\n",
       "    <tr>\n",
       "      <th>573</th>\n",
       "      <td>ZYHB</td>\n",
       "      <td>Taiping Airport</td>\n",
       "      <td>24 Apr 2021 16:00</td>\n",
       "      <td>Dry</td>\n",
       "      <td>Clear skies</td>\n",
       "      <td>Greater than 10 km</td>\n",
       "      <td>270 degrees at 3 knots</td>\n",
       "      <td>5.0</td>\n",
       "      <td>-5.0</td>\n",
       "      <td>1027</td>\n",
       "    </tr>\n",
       "    <tr>\n",
       "      <th>574</th>\n",
       "      <td>ZYTL</td>\n",
       "      <td>Zhoushuizi Airport</td>\n",
       "      <td>24 Apr 2021 16:00</td>\n",
       "      <td>Dry</td>\n",
       "      <td>Clear skies</td>\n",
       "      <td>Greater than 10 km</td>\n",
       "      <td>330 degrees at 4 knots</td>\n",
       "      <td>12.0</td>\n",
       "      <td>7.0</td>\n",
       "      <td>1023</td>\n",
       "    </tr>\n",
       "    <tr>\n",
       "      <th>575</th>\n",
       "      <td>ZYTX</td>\n",
       "      <td>Taoxian Airport</td>\n",
       "      <td>24 Apr 2021 16:00</td>\n",
       "      <td>Dry</td>\n",
       "      <td>Clear skies</td>\n",
       "      <td>Greater than 10 km</td>\n",
       "      <td>50 degrees at 4 knots</td>\n",
       "      <td>7.0</td>\n",
       "      <td>-4.0</td>\n",
       "      <td>1027</td>\n",
       "    </tr>\n",
       "  </tbody>\n",
       "</table>\n",
       "<p>576 rows × 10 columns</p>\n",
       "</div>"
      ],
      "text/plain": [
       "    ident                                         name               time  \\\n",
       "0    AYPY  Port Moresby Jacksons International Airport  24 Apr 2021 15:00   \n",
       "1    BIKF               Keflavik International Airport  24 Apr 2021 15:30   \n",
       "2    BKPR               Priština International Airport  24 Apr 2021 15:30   \n",
       "3    CYEG               Edmonton International Airport  24 Apr 2021 15:00   \n",
       "4    CYHZ    Halifax / Stanfield International Airport  24 Apr 2021 15:00   \n",
       "..    ...                                          ...                ...   \n",
       "571  ZUUU      Chengdu Shuangliu International Airport  24 Apr 2021 16:00   \n",
       "572  ZWWW          Ürümqi Diwopu International Airport  24 Apr 2021 16:00   \n",
       "573  ZYHB                              Taiping Airport  24 Apr 2021 16:00   \n",
       "574  ZYTL                           Zhoushuizi Airport  24 Apr 2021 16:00   \n",
       "575  ZYTX                              Taoxian Airport  24 Apr 2021 16:00   \n",
       "\n",
       "                 condition                                             clouds  \\\n",
       "0                      Dry  Scattered at 1524 meters; broken sky at 3962 m...   \n",
       "1                      Dry  Scattered at 335 meters; overcast sky at 3048 ...   \n",
       "2                      Dry    A few at 2438 meters; broken sky at 5486 meters   \n",
       "3                      Dry         A few at 3048 meters; a few at 7620 meters   \n",
       "4                      Dry         A few at 1981 meters; a few at 2743 meters   \n",
       "..                     ...                                                ...   \n",
       "571  Light showers of rain  A few at 305 meters; a few at 1219 meters  tow...   \n",
       "572                    Dry                                        Clear skies   \n",
       "573                    Dry                                        Clear skies   \n",
       "574                    Dry                                        Clear skies   \n",
       "575                    Dry                                        Clear skies   \n",
       "\n",
       "             visibility                    winds  temperature  dew_point  \\\n",
       "0    Greater than 10 km   320 degrees at 7 knots         24.0       23.0   \n",
       "1    Greater than 10 km  130 degrees at 22 knots          8.0        6.0   \n",
       "2    Greater than 10 km      Variable at 3 knots         15.0       -2.0   \n",
       "3          32187 meters   200 degrees at 8 knots          2.0      -10.0   \n",
       "4          24140 meters  290 degrees at 19 knots         15.0       -1.0   \n",
       "..                  ...                      ...          ...        ...   \n",
       "571  Greater than 10 km    70 degrees at 3 knots         21.0       15.0   \n",
       "572  Greater than 10 km   160 degrees at 2 knots          4.0       -4.0   \n",
       "573  Greater than 10 km   270 degrees at 3 knots          5.0       -5.0   \n",
       "574  Greater than 10 km   330 degrees at 4 knots         12.0        7.0   \n",
       "575  Greater than 10 km    50 degrees at 4 knots          7.0       -4.0   \n",
       "\n",
       "    pressure  \n",
       "0       1010  \n",
       "1       1025  \n",
       "2       1019  \n",
       "3       29.9  \n",
       "4       29.6  \n",
       "..       ...  \n",
       "571     1016  \n",
       "572     1033  \n",
       "573     1027  \n",
       "574     1023  \n",
       "575     1027  \n",
       "\n",
       "[576 rows x 10 columns]"
      ]
     },
     "execution_count": 23,
     "metadata": {},
     "output_type": "execute_result"
    }
   ],
   "source": [
    "pd.read_csv('airport_weather.csv')"
   ]
  },
  {
   "cell_type": "markdown",
   "metadata": {},
   "source": [
    "Let's commit our work, including the `csv` file."
   ]
  },
  {
   "cell_type": "code",
   "execution_count": 24,
   "metadata": {},
   "outputs": [
    {
     "data": {
      "application/javascript": [
       "window.require && require([\"base/js/namespace\"],function(Jupyter){Jupyter.notebook.save_checkpoint()})"
      ],
      "text/plain": [
       "<IPython.core.display.Javascript object>"
      ]
     },
     "metadata": {},
     "output_type": "display_data"
    },
    {
     "name": "stdout",
     "output_type": "stream",
     "text": [
      "[jovian] Attempting to save notebook..\u001b[0m\n",
      "[jovian] Updating notebook \"kara-mounir/project-1-web-scraping-with-python\" on https://jovian.ai\u001b[0m\n",
      "[jovian] Uploading notebook..\u001b[0m\n",
      "[jovian] Uploading additional files...\u001b[0m\n",
      "[jovian] Committed successfully! https://jovian.ai/kara-mounir/project-1-web-scraping-with-python\u001b[0m\n"
     ]
    },
    {
     "data": {
      "text/plain": [
       "'https://jovian.ai/kara-mounir/project-1-web-scraping-with-python'"
      ]
     },
     "execution_count": 24,
     "metadata": {},
     "output_type": "execute_result"
    }
   ],
   "source": [
    "jovian.commit(files=['airport_weather.csv'])"
   ]
  },
  {
   "cell_type": "markdown",
   "metadata": {},
   "source": [
    "# Summary  \n",
    "This notebook describes the process of downloading and storing weather data for a set of airports.  \n",
    "- First we downloaded a list of airport codes, using a dataframe from Github.  \n",
    "- The second step, was to request weather data for each airport in our list using `requests`\n",
    "- Using `BeautifulSoup` library, we scraped data from the website html response.\n",
    "- And finally, data was saved to a `csv` file."
   ]
  },
  {
   "cell_type": "markdown",
   "metadata": {},
   "source": [
    "# Future Work  \n",
    "The same structure used in this notebook could be used for different tasks :\n",
    "* Instead of choosing `large-airports` only, we could specify a country, continent or a certain category of airports.\n",
    "* Our script can generate an email (once a day ?) including weather data of interest.\n",
    "* Using libraries like `Streamlit`, `Jango` or `Flask` we can design a user-friendly interface to make this project easier to interact with."
   ]
  },
  {
   "cell_type": "code",
   "execution_count": null,
   "metadata": {},
   "outputs": [
    {
     "data": {
      "application/javascript": [
       "window.require && require([\"base/js/namespace\"],function(Jupyter){Jupyter.notebook.save_checkpoint()})"
      ],
      "text/plain": [
       "<IPython.core.display.Javascript object>"
      ]
     },
     "metadata": {},
     "output_type": "display_data"
    },
    {
     "name": "stdout",
     "output_type": "stream",
     "text": [
      "[jovian] Attempting to save notebook..\u001b[0m\n"
     ]
    }
   ],
   "source": [
    "jovian.submit(assignment=\"zerotoanalyst-project1\")"
   ]
  },
  {
   "cell_type": "code",
   "execution_count": null,
   "metadata": {},
   "outputs": [],
   "source": []
  }
 ],
 "metadata": {
  "language_info": {
   "codemirror_mode": {
    "name": "ipython",
    "version": 3
   },
   "file_extension": ".py",
   "mimetype": "text/x-python",
   "name": "python",
   "nbconvert_exporter": "python",
   "pygments_lexer": "ipython3",
   "version": "3.8.6"
  }
 },
 "nbformat": 4,
 "nbformat_minor": 2
}